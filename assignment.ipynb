{
 "cells": [
  {
   "cell_type": "markdown",
   "metadata": {},
   "source": [
    "# Pre-requisites\n",
    "- WSL\n",
    "- Miniconda3 "
   ]
  },
  {
   "cell_type": "markdown",
   "metadata": {},
   "source": [
    "# Setup environment\n",
    "- Create conda env `conda create langchain python=3.11`\n",
    "- Set the \"langchain\" env that has been just created as the running env in VS code\n"
   ]
  },
  {
   "cell_type": "markdown",
   "metadata": {},
   "source": [
    "Install langchain and openai package"
   ]
  },
  {
   "cell_type": "code",
   "execution_count": null,
   "metadata": {},
   "outputs": [],
   "source": [
    "! pip install langchain openai"
   ]
  },
  {
   "cell_type": "markdown",
   "metadata": {},
   "source": [
    "# Init variables"
   ]
  },
  {
   "cell_type": "markdown",
   "metadata": {},
   "source": [
    "You need to set value of `OPENAI_API_KEY` that you get from the training team in the .env file"
   ]
  },
  {
   "cell_type": "code",
   "execution_count": 2,
   "metadata": {},
   "outputs": [],
   "source": [
    "# SETUP ENVIRONMENT VARIABLE\n",
    "\n",
    "import openai, os\n",
    "from dotenv import load_dotenv\n",
    "\n",
    "load_dotenv()\n",
    "\n",
    "OPEN_API_TYPE = \"azure\"\n",
    "OPENAI_API_KEY = os.getenv(\"OPENAI_API_KEY\")\n",
    "OPENAI_DEPLOYMENT_ENDPOINT = os.getenv(\"AZURE_OPENAI_ENDPOINT\")\n",
    "OPENAI_DEPLOYMENT_VERSION = \"2023-05-15\"\n",
    "OPENAI_MODEL_NAME = \"gpt-4o\"\n",
    "\n",
    "OPENAI_ADA_EMBEDDING_MODEL_NAME = \"text-embedding-ada-002\""
   ]
  },
  {
   "cell_type": "markdown",
   "metadata": {},
   "source": [
    "# Overviews\n",
    "The BonBon FAQ.pdf file contains frequently asked questions and answers for customer support scenario. The topics are around IT related issue troubleshooting such as networking, software, hardware. You are requested to provide a solution to build a chat bot capable of answering the user questions with LangChain."
   ]
  },
  {
   "cell_type": "markdown",
   "metadata": {},
   "source": [
    "## Assignment 1: Document Indexing (mandatory)"
   ]
  },
  {
   "cell_type": "markdown",
   "metadata": {},
   "source": [
    "- The content of BonBon FAQ.pdf should be indexed to the local Chroma vector DB from where the chatbot can lookup the appropriate information to answer questions.\n",
    "- Should use some embedding model such as Azure Open AI text-embedding-ada-002 to create vectors, feel free to use any other open source embedding model if it works."
   ]
  },
  {
   "cell_type": "code",
   "execution_count": 3,
   "metadata": {},
   "outputs": [
    {
     "data": {
      "text/plain": [
       "[Document(metadata={'source': '.\\\\data\\\\BonBon FAQ.pdf', 'page': 0}, page_content=\"General guidelines for categorising requests as assessing Priority.  \\n \\nCategorize the incident accurately based on predefined categories.  \\n1.       Password and Account Management:  \\nExamples:  \\n• Password Resets: Assisting users who have forgotten their passwords or need to reset them \\ndue to security reasons.  \\n• Account Creations: Creating new user accounts for employees or clients, granting access to \\nvarious systems and services.  \\n• Username Recovery: Helping users retrieve their forgotten usernames or login IDs.  \\n2.       Software and Application Support  \\nExamples:  \\n• Providing guidance and troubleshooting assistance during the installation of software \\napplications on users' devices.  \\n• Software Installation  \\n• Application Errors: Resolving issues related to errors or crashes that occur while using \\nspecific software applications.  \\n• Configuration Assistance: Helping users configure software settings according to their \\nrequirements or fixing misconfigurations.  \\n3.       Hardware Troubleshooting:  \\nExamples:  \\nDesktop Issues: Addressing problems with desktop computers, such as boot failures, \\nhardware malfunctions, or abnormal behavior.  \\n• Laptop Troubles: Assisting users with laptop -related problems, like battery issues, display \\nproblems, or keyboard malfunctions.  \\n• Printer and Peripheral Support: Troubleshooting and resolving issues with printers, \\nscanners, keyboards, mice, and other peripherals.  \\n4.       Network Connectivity:  \\n• Examples:  \\n• Wi-Fi Problems: Diagnosing and resolving issues with wireless network connections and Wi -\\nFi access points.  \"),\n",
       " Document(metadata={'source': '.\\\\data\\\\BonBon FAQ.pdf', 'page': 1}, page_content='• Internet Access Issues: Troubleshooting problems that prevent users from accessing the \\ninternet due to network or connectivity problems.  \\n• Network Connectivity Problems: Assisting with general network connectivity issues, like \\nnetwork card configuration or DNS problems.  \\n \\n5.       Email and Communication:  \\nExamples:  \\n• Email Setup: Assisting users with configuring email accounts on various email clients or \\ndevices.  \\n• Email Access Issues: Addressing problems related to accessing email accounts, login errors, \\nor syncing issues.  \\n• Email Errors: Resolving issues with error messages or problems encountered while sending, \\nreceiving, or managing emails.  \\n \\n6.       Security and Access Control:  \\nExamples:  \\n• Access Requests: Handling requests from users for access to specific resources, applications, \\nor network folders.  \\n• Permissions Management: Managing user permissions and access rights to ensure data \\nsecurity and adherence to company policies.  \\n• Security Inquiries: Addressing user concerns or questions about security practices, policies, \\nor potential security threats.  \\n \\n7.       General IT Inquiries:  \\nExamples:  \\n• Non-Specific IT Queries: Answering general questions about IT services, hardware, software, \\nor technology -related topics.  \\n• Technology Advice: Providing guidance and recommendations on IT solutions, best \\npractices, or suitable tools for specific needs.  \\n \\nPrioritize incidents based on impact and urgency to ensure timely resolution.  \\n1. Priority Level: Low  '),\n",
       " Document(metadata={'source': '.\\\\data\\\\BonBon FAQ.pdf', 'page': 2}, page_content='• Description: Incidents categorized as \"Low\" priority are non -critical and have a minimal \\nimpact on the user\\'s ability to work. These incidents usually involve general inquiries, \\ninformational requests, or minor issues that do not significantly impact busin ess operations.  \\n• Example: Request for software installation on a user\\'s workstation, a password reset for an \\naccount with no immediate work impact, or assistance with updating personal information \\nin the system.  \\n \\n2. Priority Level: Medium  \\n• Description: Incidents categorized as \"Medium\" priority have a noticeable impact on the \\nuser\\'s ability to work but do not cause critical disruptions. These incidents might involve \\nissues that impact individual productivity or specific tasks, but there are workarounds \\navailable.  \\n• Example: Inability to access a shared network folder required for a project, a software \\napplication crashing intermittently, or a printer not functioning for a team that relies on \\nhard copies for meetings.  \\n \\n3. Priority Level: High  \\n• Description: Incidents categorized as \"High\" priority are critical and have a severe impact on \\nthe user\\'s ability to perform essential tasks. These incidents usually result in a significant \\ndisruption of work for the affected individual or team and require  immediate attention.  \\n• Example: Complete network outage preventing all users from accessing critical systems, a \\nserver malfunction affecting multiple users\\' access to essential data, or an email service \\noutage preventing communication for the entire organization.  \\n• Remember, the priority levels may vary based on the organization\\'s policies and the nature \\nof the incident. It\\'s important to have well -defined criteria for determining the priority of \\nincidents so that the Service Desk team can effectively allocate resour ces and provide timely \\nsupport.  \\n \\nFrequently Asked Questions:  \\n \\n1) Q: How do I reset my password?  \\nA: Go to “Where to Reset my Password for which application” web page @ the following link – \\nwww.anycorp.intranet.passwordreset/com . There you will be able to select application for which you \\nneed to reset your password and will receive further instructions.  \\n '),\n",
       " Document(metadata={'source': '.\\\\data\\\\BonBon FAQ.pdf', 'page': 3}, page_content='2) Q: My internet connection is not working. Can you help me troubleshoot it?  \\nA: Please follow below steps:  \\n1) Check physical connections:  \\n• Ensure that all cables (Ethernet, modem, router, etc.) are securely connected.  \\n• Power cycle your modem and router by unplugging them from the power source, waiting for 30 \\nseconds, and then plugging them back in.  \\n \\n2) Verify Wi -Fi settings (for wireless connections):  \\n• Make sure the Wi -Fi on your device is turned on.  \\n• Check if you are connected to the correct Wi -Fi network.  \\n• Try disconnecting and reconnecting to the Wi -Fi network.  \\n \\n3) Test connectivity on other devices:  \\n• Check if other devices (e.g., smartphones, tablets, other computers) can connect to the internet. \\nThis helps determine if the issue is specific to your device or a broader network problem.  \\n \\n4) Restart your device:  \\n• Restart your computer or device to refresh network settings.  \\n \\n5) Disable/enable network adapters:  \\n• For Windows: Go to the Control Panel > Network and Internet > Network and Sharing Center. \\nClick on \"Change adapter settings\" on the left -hand side. Right -click on the active network \\nadapter and select \"Disable.\" After a few seconds, right -click again and s elect \"Enable.\"  \\n• For Mac: Go to System Preferences > Network. Select the active network connection on the left -\\nhand side and click the minus ( -) button to remove it. Then click the plus (+) button and re -add \\nthe network connection.  \\n \\n3) Q: How do I connect to Any Corp’s Corporate Wi -Fi network?  \\nA: 1. Go to your device\\'s Wi -Fi settings.  \\n• For Windows: Click on the Wi -Fi icon in the system tray at the bottom right corner of the \\nscreen, then click \"Network & Internet settings\" and select \"Wi -Fi\" from the left -hand menu.  \\n• For Mac: Click on the Wi -Fi icon in the menu bar at the top right corner of the screen.  \\n• For iOS (iPhone/iPad): Go to \"Settings\" > \"Wi -Fi.\" \\n• For Android: Go to \"Settings\" > \"Network & internet\" > \"Wi -Fi.\" '),\n",
       " Document(metadata={'source': '.\\\\data\\\\BonBon FAQ.pdf', 'page': 4}, page_content='2. Look for the available Wi -Fi networks.  \\n• Locate the list of available Wi -Fi networks. It may be labelled as \"Any Available \\nNetworks\" or \"Choose a Network.\"  \\n3. Select Any Corp\\'s corporate Wi -Fi network.  \\n• Look for the network name (SSID) that corresponds to your corporate Wi -Fi network.  \\n• When you firstly joined Any Corp, an email was sent to you with a list of all Any Corp\\'s \\nCorporate Office and Wi -Fi password, find that email and check which Any Corp Location you \\nare in and use the provided credentials  \\n• If you can’t locate the email then a colleague can logon Any Corp’s Intranet and under \\nAny Corp’s Office Locations > Go to Wi -Fi details or if you still need help, contact IT Helpdesk  \\n• Click or tap on the network name to select it.  \\n4. Enter the Wi -Fi network password.  \\n• If prompted, enter the Wi -Fi network password or security key.  \\n5. Verify the connection.  \\n• Once you\\'ve entered the password, your device will attempt to connect to the corporate \\nWi-Fi network.  \\n• Wait for a moment until your device confirms the successful connection. You should see \\na connected status or Wi -Fi icon on your device\\'s screen.  \\n6. Test the internet connection.  \\n• Open a web browser or any internet -dependent application to ensure that you have \\nsuccessfully connected to the internet through the corporate Wi -Fi network.  \\n• Visit a website or perform a network -dependent task to verify the connectivity.  \\n• If you have successfully performed all the tasks above and your Wi -Fi still doesn’t work, \\nthen please contact IT Helpdesk  \\n \\n4) Q: I accidentally deleted a file. Can it be recovered?  \\nA:  \\n1. Check the Recycle Bin or Trash:  \\n• Windows: Open the Recycle Bin by double -clicking its icon on the desktop. Locate the \\ndeleted file, right -click on it, and select \"Restore\" to return it to its original location.  \\n• Mac: Open the Trash by clicking on its icon in the Dock. Find the deleted file, right -click \\non it, and choose \"Put Back\" to restore it to its original location.  '),\n",
       " Document(metadata={'source': '.\\\\data\\\\BonBon FAQ.pdf', 'page': 5}, page_content='2. Use File History or Time Machine (for backups):  \\n• Windows: If you have enabled File History or created a backup using third -party \\nsoftware, you can restore the deleted file from your backup.  \\n• Mac: If you have enabled Time Machine and regularly backed up your files, you can \\nenter Time Machine, locate the file at an earlier point in time, and restore it.  \\n3. Search for temporary or hidden copies:  \\n• Some applications or the operating system itself may create temporary or hidden copies \\nof files. Use the search functionality on your computer to search for the file by its name or \\nextension. Look for any temporary or hidden folders that might contain a copy of the deleted \\nfile. \\n4. Contact IT Helpdesk  \\n• If the above methods don\\'t recover the file and the file is deemed business critical, then \\nplease contact the IT Helpdesk and if a business case can be made for deploying data recovery \\nsoftware to help.  \\n \\n5) Q: My computer is running slow. Is there anything I can do to improve its performance?  \\nA: \\nYes, try the following hints and tips : \\n1. Restart your computer:  \\n• Sometimes, a simple restart can resolve temporary performance issues by clearing out \\nsystem resources and processes.  \\n2. Check for malware and viruses:  \\n• Run a full scan with your antivirus software to check for any malware or viruses that \\nmay be slowing down your computer. If any threats are detected, follow the recommended \\nactions to remove them.  \\n3. Free up disk space:  \\n• Delete unnecessary files and programs to free up disk space. Use the built -in Disk \\nCleanup tool on Windows or manually remove files and applications you no longer need.  \\n4. Manage startup programs:  \\n• Reduce the number of programs that automatically start when your computer boots up. \\nOpen the Task Manager (Ctrl+Shift+Esc on Windows) and go to the \"Startup\" tab. Disable any \\nunnecessary programs from starting up.  \\n5. Disable visual effects:  '),\n",
       " Document(metadata={'source': '.\\\\data\\\\BonBon FAQ.pdf', 'page': 6}, page_content='• Adjusting visual effects can improve performance. On Windows, right -click on \"This PC\" \\nor \"My Computer,\" select \"Properties,\" then go to \"Advanced system settings.\" Under the \\n\"Performance\" section, click on \"Settings\" and choose \"Adjust for best performa nce\" or \\nmanually disable specific visual effects.  \\n6. Update software and drivers:  \\n• Ensure that your operating system, drivers, and software are up to date. Updates often \\ninclude bug fixes and performance improvements.  \\n7. Increase virtual memory:  \\n• Adjusting virtual memory (also known as the page file) can help improve performance. \\nOn Windows, go to \"Advanced system settings\" (follow step 5), click on the \"Advanced\" tab, and \\nunder the \"Performance\" section, click on \"Settings.\" Go to the \"Advanced\"  tab again and click \\non \"Change\" under Virtual Memory. Adjust the settings based on your system\\'s specifications or \\nlet Windows manage it automatically.  \\n8. Upgrade hardware components:  \\n• If your computer continues to run slowly after performing the above steps, consider \\nupgrading hardware components such as adding more RAM or replacing the hard drive with a \\nsolid -state drive (SSD). Consult with a professional or refer to your computer\\'s documentation \\nfor compatibility and installation instructions.  \\n9. Regularly maintain your computer:  \\n• Perform regular disk cleanup, disk defragmentation (if using a traditional hard drive), \\nand system maintenance tasks. These tasks can optimize performance and improve overall \\nstability.  \\n \\n6) Q: How do I install a software application?  \\nA: \\n1. Any Corp does not permit the installation of software applications without prior approval.  \\n2. Please check Any Corp’s Intranet page > Approved Software Catalogue  \\n3. Find the software you wish to install and follow the instructions in the read.me which \\ndownloads automatically with the installation file  \\n4. If you can’t find the software in the Catalogue, please contact the IT Helpdesk  \\n \\nQ: I can\\'t print. What should I check or do to fix the issue?  \\n1. Check printer connections:  '),\n",
       " Document(metadata={'source': '.\\\\data\\\\BonBon FAQ.pdf', 'page': 7}, page_content='• Ensure that your printer is properly connected to your laptop via USB, network, or \\nwireless connection. Make sure all cables are securely connected.  \\n2. Confirm printer power and status:  \\n• Check that your printer is turned on and has no error messages or warning lights \\nindicating an issue. If necessary, refer to the printer\\'s manual for troubleshooting steps.  \\n3. Set printer as default:  \\n• On your laptop, go to the \"Control Panel\" (Windows) or \"System Preferences\" (Mac) and \\nnavigate to the \"Printers\" or \"Print & Scan\" section. Right -click on your printer and select \"Set as \\ndefault printer\" (Windows) or click the lock icon and enter your pa ssword, then select your \\nprinter and click the \"Set as default\" button (Mac).  \\n4. Clear print queue:  \\n• Sometimes, print jobs can get stuck in the print queue and cause issues. Open the print \\nqueue by clicking on the printer icon in the system tray (Windows) or the printer settings (Mac). \\nCancel any pending print jobs, and then try printing again.  \\n5. Restart printer and laptop:  \\n• Power off your printer and laptop completely. Wait for a few seconds, then power them \\nback on. This can resolve temporary issues and refresh the printer and computer connections.  \\n6. Update printer drivers:  \\n• Outdated or incompatible printer drivers can cause printing problems. Visit the printer \\nmanufacturer\\'s website and search for the latest drivers for your specific printer model. \\nDownload and install the updated drivers on your laptop.  \\n7. Check printer settings:  \\n• Open the printer properties or settings on your laptop. Ensure that the correct printer is \\nselected and verify that the settings (such as paper size, print quality, etc.) match your desired \\nprint job.  \\n8. Test with a different document or application:  \\n• Try printing from a different document or application to see if the issue is specific to one \\nfile or program. If you can print successfully from other sources, the problem may lie within the \\noriginal document or application.  \\n9. Restart print spooler service (Windows):  \\n• Open the \"Services\" application on your laptop. Locate the \"Print Spooler\" service, right -\\nclick on it, and select \"Restart.\" This action clears the print spooler and can resolve certain \\nprinting issues.  \\n10. Reinstall printer software:  '),\n",
       " Document(metadata={'source': '.\\\\data\\\\BonBon FAQ.pdf', 'page': 8}, page_content='• If all else fails, uninstall the printer software from your laptop and reinstall it. Visit the \\nprinter manufacturer\\'s website and download the latest software for your printer model. Follow \\nthe provided instructions to reinstall the printer on your lapto p. \\n7) Q: How do I access shared network drives?  \\nA: \\n1) Ensure Network Connectivity:  \\n• Make sure your computer is connected to the network, either via Ethernet cable or Wi -Fi. \\n \\n2) Know the Shared Drive Path:  \\n• You should have the network path or UNC (Universal Naming Convention) of the shared \\ndrive. It typically looks like this: \\\\\\\\computername \\\\sharename or \\\\\\\\IP_address \\\\sharename.  \\n \\n3) Open File Explorer:  \\n• Open File Explorer (Windows Explorer) on your computer.  \\n \\n4) Map a Network Drive (Optional):  \\n• If you want to access the shared drive frequently, you can map it as a network drive:  \\n \\n5) In File Explorer, go to \"This PC.\"  \\n• Click on \"Computer\" in the top menu and select \"Map network drive.\"  \\n• Choose a drive letter and enter the UNC path (e.g., \\\\\\\\server \\\\share).  \\n• Check the box that says \"Reconnect at sign -in\" if you want it to be available every time you \\nlog in.  \\n• Click \"Finish.\"  \\n \\n6) Access the Shared Drive:  \\n• If you\\'ve mapped the drive, you can find it under \"This PC\" with the assigned drive letter.  \\n• If you haven\\'t mapped the drive, you can directly access it by entering the UNC path in the \\naddress bar of File Explorer and pressing Enter.  \\n \\n7) Provide Credentials (if required):  \\n• If the shared drive requires authentication, a window may pop up asking for a username and \\npassword. Enter your credentials, and check \"Remember my credentials\" if you want to \\navoid entering them every time.  \\n '),\n",
       " Document(metadata={'source': '.\\\\data\\\\BonBon FAQ.pdf', 'page': 9}, page_content=\"8) Access Files and Folders:  \\n• Once you're connected to the shared drive, you can browse, open, and manage files and \\nfolders just like you would on your local drive.  \\nPlease note that the exact steps may vary depending on your network configuration and the version of \\nWindows you are using. Additionally, you'll need appropriate permissions and credentials to access the \\nshared drive.  \\n8) Q: My computer is infected with malware. What steps should I take to remove it?  \\nA: \\n1)   Isolate the infected computer:  \\n• Disconnect from the internet to prevent the malware from communicating with its \\ncommand and control servers.  \\n• Disconnect any external storage devices, such as USB drives, to prevent further infection.  \\n2)  Identify the malware:  \\n• Use reputable antivirus or anti -malware software to scan your computer and identify the \\nmalware. If you don't have one installed, consider downloading and installing a trusted \\nantivirus program.  \\n3)  Remove the malware:  \\n• Follow the instructions provided by your antivirus software to remove the detected \\nmalware. This often involves quarantining or deleting infected files and cleaning your \\nsystem.  \\n4)  Update your operating system and software:  \\n• Make sure your operating system and all installed software are up to date. Malware often \\ntakes advantage of vulnerabilities in outdated software.  \\n 5)  Change passwords:  \\n• If you suspect that the malware has access to your sensitive information, change your \\npasswords for important accounts, such as email, online banking, and social media.  \\n6) Restore or reinstall the operating system (if necessary):  \\n• In severe cases, you may need to reinstall your operating system to ensure complete \\nremoval of the malware. Make sure to back up your important data before doing this.  \\n7) Install preventive measures:  \\n• After removing the malware, install reputable antivirus software and keep it updated to help \\nprevent future infections. Also, enable your computer's built -in firewall.  \\n \\n9) Q. How do I connect to the Any Corp’s Corporate VPN (Virtual Private Network)?  \\nA: \"),\n",
       " Document(metadata={'source': '.\\\\data\\\\BonBon FAQ.pdf', 'page': 10}, page_content='1)  Obtain VPN Credentials : \\n• Your company\\'s IT department will provide you with the necessary credentials for \\nconnecting to the VPN. This typically includes a username and a password, and sometimes \\nadditional information like a VPN server address  \\n     2)  Install VPN Software (if required):  \\n• Any Corp may offer custom VPN client software. If they do, you should download and install \\nthis software on your computer or device.  \\n    3)  Configure VPN Settings (if using built -in clients):  \\n• If Any Corp uses standard VPN protocols (e.g., PPTP, L2TP, IPSec, OpenVPN), you can \\nconfigure the VPN connection using the built -in VPN clients of your operating system. Here \\nare the general steps for Windows and macOS:  \\no Windows:  \\n▪ Go to \"Settings\" > \"Network & Internet\" > \"VPN.\"  \\n▪ Click \"Add a VPN connection\" and enter the provided VPN server address, \\nyour username, and password.  \\n▪ You may need to configure additional settings based on your company\\'s \\nVPN requirements.  \\no macOS:  \\n▪ Go to \"System Preferences\" > \"Network.\"  \\n▪ Click the \"+\" button to add a new network connection, then choose \"VPN.\"  \\n▪ Follow the prompts to configure the VPN settings, including the server \\naddress, your username, and password.  \\n  4) Mobile Device Configuration (if needed):  \\n• If you need to connect to Any Corp\\'s VPN on a mobile device (iOS or Android), you can \\nusually find VPN settings in the device\\'s network or connection settings. Enter the VPN \\ndetails provided by your IT department.  \\n5) Manual Configuration (if necessary):  \\n• If you don\\'t have custom VPN software and need to set up the VPN manually, you will \\nrequire specific information such as:  \\n▪ VPN server address or hostname  \\n▪ VPN protocol (e.g., PPTP, L2TP, IPSec, OpenVPN)  \\n▪ Username and password  \\n▪ Any additional settings or certificates required  \\n6) Connect to the VPN:  \\n• Open the VPN client or use the built -in VPN settings, then enter the provided information. \\nClick \"Connect\" to establish the VPN connection.  \\n '),\n",
       " Document(metadata={'source': '.\\\\data\\\\BonBon FAQ.pdf', 'page': 11}, page_content='7) Authentication:  \\n• You will likely be prompted to enter your username and password to authenticate yourself. \\nIf Any Corp uses two -factor authentication (2FA), follow the additional steps as required.  \\n8) Access Corporate Resources:  \\n•  Once connected to the VPN, your internet traffic will be routed through Any Corp\\'s \\nnetwork, and you will have access to company resources that are typically available only \\nwithin the corporate network.  \\n9) Disconnect:  \\n• Remember to disconnect from the VPN when you no longer need it to ensure that your \\ninternet traffic returns to its regular route.  \\n10) Q: Can you help me set up a secure password for my accounts?  \\nA:  \\n1) Length:  \\n• Make your password at least 12 characters long. Longer passwords are generally stronger.  \\n2) Complexity:   \\n• Use a mix of characters, including uppercase letters, lowercase letters, numbers, and \\nspecial symbols (e.g., !, @, #, $, %, etc.). The more character types you use, the stronger \\nyour password.  \\n3) Avoid Common Words:  \\n• Avoid using easily guessable words, such as \"password,\" \"123456,\" or common dictionary \\nwords. Hackers use dictionary attacks to guess passwords.  \\n4) Avoid Personal Information:  \\n• Don\\'t use personal information like your name, birthdate, or family members\\' names. This \\ninformation is often publicly available on social media.  \\n5) No Sequential or Repeated Characters:  \\n• Avoid sequences like \"123456\" or \"abcdef,\" and don\\'t repeat characters like \"aaaa.\"  \\n6) Passphrases:  \\n• Consider using a passphrase, which is a series of random words or a memorable phrase. \\nFor example, \"PurpleTiger$DancesUnderMoonlight!\"  \\n7) Avoid Easily Guessable Patterns:  \\n• Don\\'t use patterns like \"qwerty\" or \"asdfgh.\"  \\n8) Unique Passwords for Each Account:  '),\n",
       " Document(metadata={'source': '.\\\\data\\\\BonBon FAQ.pdf', 'page': 12}, page_content=\"• Avoid using the same password for multiple accounts. Use a different, unique password \\nfor each account you have.  \\n9) Password Managers:  \\n• Consider using a reputable password manager to generate, store, and autofill your \\npasswords. Password managers can help you create and manage complex passwords \\nwithout having to remember them all.  \\n10) Change Passwords Regularly:  \\n• It's a good practice to change your passwords periodically, especially for important \\naccounts.  \\n \\n \\nQ: What does NashTech Business Process Outsourcing Team does?  \\nA: NashTech has 2000 employees supporting hundreds of clients across multiple different industries \\nsegments including retail & e -Commerce, technology, BFSI (banking, financial services & insurance), \\neducation, FMCG, manufacturing, professional services, and t ransportation. We handle more than 20 \\nmillion data transactions per month in 28 languages with exceptional outcomes. Our delivery centers \\nare based in Vietnam and offer competitive cost advantage when compared to running inhouse \\noperations. We consisten tly help drive operational costs for our clients down by 30% to 50%, offering \\nflexible teams which can be quickly ramped up and down to match your requirements. We provide \\nleadership expertise in areas of business process outsourcing, process automation so lutions and \\nbusiness process re -engineering. Our skilled teams help you undertake the first step of mapping your \\ncurrent processes and perform critical business analysis to determine how you can improve productivity \\nand reduce waste in your process landsca pe. We have skilled professionals working in the following \\nareas:  \\nData processing: Including data acquisition, data input, data migration, data preparation for machine \\nlearning, data labelling and categorization.  \\nData quality management: Including verifying, standardizing, and auditing data . \\nLanguage services: NashTech can support business process outsourcing in over 28 languages . \\nSales and Marketing support:  Including customer experience, promotional services and support for Sales \\nand Marketing, including campaign management and Customer Relationship administration . \\nDigitization:  Including content extraction and validation, paper to digital conversion, document \\nmanagement . \\nBack -office operations:  HR & admin support, image processing, financial service, claim administration . \\nMarket research:  Including market data collection, consolidation, analysis, and reporting.  \"),\n",
       " Document(metadata={'source': '.\\\\data\\\\BonBon FAQ.pdf', 'page': 13}, page_content='Content enrichment:  Digital content enrichments, validation and management including but not limited \\nto website, mobile apps, online platform.  ')]"
      ]
     },
     "execution_count": 3,
     "metadata": {},
     "output_type": "execute_result"
    }
   ],
   "source": [
    "# READING THE DATA INSIDE THE \"BonBon FAQ.pdf\"\n",
    "\n",
    "from langchain_community.document_loaders import PyPDFLoader\n",
    "\n",
    "loader = PyPDFLoader(\".\\data\\BonBon FAQ.pdf\")\n",
    "documents = loader.load()\n",
    "documents"
   ]
  },
  {
   "cell_type": "code",
   "execution_count": 4,
   "metadata": {},
   "outputs": [
    {
     "data": {
      "text/plain": [
       "[Document(metadata={'source': '.\\\\data\\\\BonBon FAQ.pdf', 'page': 0}, page_content=\"General guidelines for categorising requests as assessing Priority.  \\n \\nCategorize the incident accurately based on predefined categories.  \\n1.       Password and Account Management:  \\nExamples:  \\n• Password Resets: Assisting users who have forgotten their passwords or need to reset them \\ndue to security reasons.  \\n• Account Creations: Creating new user accounts for employees or clients, granting access to \\nvarious systems and services.  \\n• Username Recovery: Helping users retrieve their forgotten usernames or login IDs.  \\n2.       Software and Application Support  \\nExamples:  \\n• Providing guidance and troubleshooting assistance during the installation of software \\napplications on users' devices.  \\n• Software Installation  \\n• Application Errors: Resolving issues related to errors or crashes that occur while using \\nspecific software applications.  \\n• Configuration Assistance: Helping users configure software settings according to their \\nrequirements or fixing misconfigurations.\"),\n",
       " Document(metadata={'source': '.\\\\data\\\\BonBon FAQ.pdf', 'page': 0}, page_content='requirements or fixing misconfigurations.  \\n3.       Hardware Troubleshooting:  \\nExamples:  \\nDesktop Issues: Addressing problems with desktop computers, such as boot failures, \\nhardware malfunctions, or abnormal behavior.  \\n• Laptop Troubles: Assisting users with laptop -related problems, like battery issues, display \\nproblems, or keyboard malfunctions.  \\n• Printer and Peripheral Support: Troubleshooting and resolving issues with printers, \\nscanners, keyboards, mice, and other peripherals.  \\n4.       Network Connectivity:  \\n• Examples:  \\n• Wi-Fi Problems: Diagnosing and resolving issues with wireless network connections and Wi -\\nFi access points.'),\n",
       " Document(metadata={'source': '.\\\\data\\\\BonBon FAQ.pdf', 'page': 1}, page_content='• Internet Access Issues: Troubleshooting problems that prevent users from accessing the \\ninternet due to network or connectivity problems.  \\n• Network Connectivity Problems: Assisting with general network connectivity issues, like \\nnetwork card configuration or DNS problems.  \\n \\n5.       Email and Communication:  \\nExamples:  \\n• Email Setup: Assisting users with configuring email accounts on various email clients or \\ndevices.  \\n• Email Access Issues: Addressing problems related to accessing email accounts, login errors, \\nor syncing issues.  \\n• Email Errors: Resolving issues with error messages or problems encountered while sending, \\nreceiving, or managing emails.  \\n \\n6.       Security and Access Control:  \\nExamples:  \\n• Access Requests: Handling requests from users for access to specific resources, applications, \\nor network folders.  \\n• Permissions Management: Managing user permissions and access rights to ensure data \\nsecurity and adherence to company policies.'),\n",
       " Document(metadata={'source': '.\\\\data\\\\BonBon FAQ.pdf', 'page': 1}, page_content='security and adherence to company policies.  \\n• Security Inquiries: Addressing user concerns or questions about security practices, policies, \\nor potential security threats.  \\n \\n7.       General IT Inquiries:  \\nExamples:  \\n• Non-Specific IT Queries: Answering general questions about IT services, hardware, software, \\nor technology -related topics.  \\n• Technology Advice: Providing guidance and recommendations on IT solutions, best \\npractices, or suitable tools for specific needs.  \\n \\nPrioritize incidents based on impact and urgency to ensure timely resolution.  \\n1. Priority Level: Low'),\n",
       " Document(metadata={'source': '.\\\\data\\\\BonBon FAQ.pdf', 'page': 2}, page_content='• Description: Incidents categorized as \"Low\" priority are non -critical and have a minimal \\nimpact on the user\\'s ability to work. These incidents usually involve general inquiries, \\ninformational requests, or minor issues that do not significantly impact busin ess operations.  \\n• Example: Request for software installation on a user\\'s workstation, a password reset for an \\naccount with no immediate work impact, or assistance with updating personal information \\nin the system.  \\n \\n2. Priority Level: Medium  \\n• Description: Incidents categorized as \"Medium\" priority have a noticeable impact on the \\nuser\\'s ability to work but do not cause critical disruptions. These incidents might involve \\nissues that impact individual productivity or specific tasks, but there are workarounds \\navailable.  \\n• Example: Inability to access a shared network folder required for a project, a software \\napplication crashing intermittently, or a printer not functioning for a team that relies on'),\n",
       " Document(metadata={'source': '.\\\\data\\\\BonBon FAQ.pdf', 'page': 2}, page_content='application crashing intermittently, or a printer not functioning for a team that relies on \\nhard copies for meetings.  \\n \\n3. Priority Level: High  \\n• Description: Incidents categorized as \"High\" priority are critical and have a severe impact on \\nthe user\\'s ability to perform essential tasks. These incidents usually result in a significant \\ndisruption of work for the affected individual or team and require  immediate attention.  \\n• Example: Complete network outage preventing all users from accessing critical systems, a \\nserver malfunction affecting multiple users\\' access to essential data, or an email service \\noutage preventing communication for the entire organization.  \\n• Remember, the priority levels may vary based on the organization\\'s policies and the nature \\nof the incident. It\\'s important to have well -defined criteria for determining the priority of \\nincidents so that the Service Desk team can effectively allocate resour ces and provide timely \\nsupport.'),\n",
       " Document(metadata={'source': '.\\\\data\\\\BonBon FAQ.pdf', 'page': 2}, page_content='support.  \\n \\nFrequently Asked Questions:  \\n \\n1) Q: How do I reset my password?  \\nA: Go to “Where to Reset my Password for which application” web page @ the following link – \\nwww.anycorp.intranet.passwordreset/com . There you will be able to select application for which you \\nneed to reset your password and will receive further instructions.'),\n",
       " Document(metadata={'source': '.\\\\data\\\\BonBon FAQ.pdf', 'page': 3}, page_content='2) Q: My internet connection is not working. Can you help me troubleshoot it?  \\nA: Please follow below steps:  \\n1) Check physical connections:  \\n• Ensure that all cables (Ethernet, modem, router, etc.) are securely connected.  \\n• Power cycle your modem and router by unplugging them from the power source, waiting for 30 \\nseconds, and then plugging them back in.  \\n \\n2) Verify Wi -Fi settings (for wireless connections):  \\n• Make sure the Wi -Fi on your device is turned on.  \\n• Check if you are connected to the correct Wi -Fi network.  \\n• Try disconnecting and reconnecting to the Wi -Fi network.  \\n \\n3) Test connectivity on other devices:  \\n• Check if other devices (e.g., smartphones, tablets, other computers) can connect to the internet. \\nThis helps determine if the issue is specific to your device or a broader network problem.  \\n \\n4) Restart your device:  \\n• Restart your computer or device to refresh network settings.  \\n \\n5) Disable/enable network adapters:'),\n",
       " Document(metadata={'source': '.\\\\data\\\\BonBon FAQ.pdf', 'page': 3}, page_content='5) Disable/enable network adapters:  \\n• For Windows: Go to the Control Panel > Network and Internet > Network and Sharing Center. \\nClick on \"Change adapter settings\" on the left -hand side. Right -click on the active network \\nadapter and select \"Disable.\" After a few seconds, right -click again and s elect \"Enable.\"  \\n• For Mac: Go to System Preferences > Network. Select the active network connection on the left -\\nhand side and click the minus ( -) button to remove it. Then click the plus (+) button and re -add \\nthe network connection.  \\n \\n3) Q: How do I connect to Any Corp’s Corporate Wi -Fi network?  \\nA: 1. Go to your device\\'s Wi -Fi settings.  \\n• For Windows: Click on the Wi -Fi icon in the system tray at the bottom right corner of the \\nscreen, then click \"Network & Internet settings\" and select \"Wi -Fi\" from the left -hand menu.  \\n• For Mac: Click on the Wi -Fi icon in the menu bar at the top right corner of the screen.  \\n• For iOS (iPhone/iPad): Go to \"Settings\" > \"Wi -Fi.\"'),\n",
       " Document(metadata={'source': '.\\\\data\\\\BonBon FAQ.pdf', 'page': 3}, page_content='• For iOS (iPhone/iPad): Go to \"Settings\" > \"Wi -Fi.\" \\n• For Android: Go to \"Settings\" > \"Network & internet\" > \"Wi -Fi.\"'),\n",
       " Document(metadata={'source': '.\\\\data\\\\BonBon FAQ.pdf', 'page': 4}, page_content='2. Look for the available Wi -Fi networks.  \\n• Locate the list of available Wi -Fi networks. It may be labelled as \"Any Available \\nNetworks\" or \"Choose a Network.\"  \\n3. Select Any Corp\\'s corporate Wi -Fi network.  \\n• Look for the network name (SSID) that corresponds to your corporate Wi -Fi network.  \\n• When you firstly joined Any Corp, an email was sent to you with a list of all Any Corp\\'s \\nCorporate Office and Wi -Fi password, find that email and check which Any Corp Location you \\nare in and use the provided credentials  \\n• If you can’t locate the email then a colleague can logon Any Corp’s Intranet and under \\nAny Corp’s Office Locations > Go to Wi -Fi details or if you still need help, contact IT Helpdesk  \\n• Click or tap on the network name to select it.  \\n4. Enter the Wi -Fi network password.  \\n• If prompted, enter the Wi -Fi network password or security key.  \\n5. Verify the connection.  \\n• Once you\\'ve entered the password, your device will attempt to connect to the corporate'),\n",
       " Document(metadata={'source': '.\\\\data\\\\BonBon FAQ.pdf', 'page': 4}, page_content='• Once you\\'ve entered the password, your device will attempt to connect to the corporate \\nWi-Fi network.  \\n• Wait for a moment until your device confirms the successful connection. You should see \\na connected status or Wi -Fi icon on your device\\'s screen.  \\n6. Test the internet connection.  \\n• Open a web browser or any internet -dependent application to ensure that you have \\nsuccessfully connected to the internet through the corporate Wi -Fi network.  \\n• Visit a website or perform a network -dependent task to verify the connectivity.  \\n• If you have successfully performed all the tasks above and your Wi -Fi still doesn’t work, \\nthen please contact IT Helpdesk  \\n \\n4) Q: I accidentally deleted a file. Can it be recovered?  \\nA:  \\n1. Check the Recycle Bin or Trash:  \\n• Windows: Open the Recycle Bin by double -clicking its icon on the desktop. Locate the \\ndeleted file, right -click on it, and select \"Restore\" to return it to its original location.'),\n",
       " Document(metadata={'source': '.\\\\data\\\\BonBon FAQ.pdf', 'page': 4}, page_content='deleted file, right -click on it, and select \"Restore\" to return it to its original location.  \\n• Mac: Open the Trash by clicking on its icon in the Dock. Find the deleted file, right -click \\non it, and choose \"Put Back\" to restore it to its original location.'),\n",
       " Document(metadata={'source': '.\\\\data\\\\BonBon FAQ.pdf', 'page': 5}, page_content=\"2. Use File History or Time Machine (for backups):  \\n• Windows: If you have enabled File History or created a backup using third -party \\nsoftware, you can restore the deleted file from your backup.  \\n• Mac: If you have enabled Time Machine and regularly backed up your files, you can \\nenter Time Machine, locate the file at an earlier point in time, and restore it.  \\n3. Search for temporary or hidden copies:  \\n• Some applications or the operating system itself may create temporary or hidden copies \\nof files. Use the search functionality on your computer to search for the file by its name or \\nextension. Look for any temporary or hidden folders that might contain a copy of the deleted \\nfile. \\n4. Contact IT Helpdesk  \\n• If the above methods don't recover the file and the file is deemed business critical, then \\nplease contact the IT Helpdesk and if a business case can be made for deploying data recovery \\nsoftware to help.\"),\n",
       " Document(metadata={'source': '.\\\\data\\\\BonBon FAQ.pdf', 'page': 5}, page_content='software to help.  \\n \\n5) Q: My computer is running slow. Is there anything I can do to improve its performance?  \\nA: \\nYes, try the following hints and tips : \\n1. Restart your computer:  \\n• Sometimes, a simple restart can resolve temporary performance issues by clearing out \\nsystem resources and processes.  \\n2. Check for malware and viruses:  \\n• Run a full scan with your antivirus software to check for any malware or viruses that \\nmay be slowing down your computer. If any threats are detected, follow the recommended \\nactions to remove them.  \\n3. Free up disk space:  \\n• Delete unnecessary files and programs to free up disk space. Use the built -in Disk \\nCleanup tool on Windows or manually remove files and applications you no longer need.  \\n4. Manage startup programs:  \\n• Reduce the number of programs that automatically start when your computer boots up. \\nOpen the Task Manager (Ctrl+Shift+Esc on Windows) and go to the \"Startup\" tab. Disable any \\nunnecessary programs from starting up.'),\n",
       " Document(metadata={'source': '.\\\\data\\\\BonBon FAQ.pdf', 'page': 5}, page_content='unnecessary programs from starting up.  \\n5. Disable visual effects:'),\n",
       " Document(metadata={'source': '.\\\\data\\\\BonBon FAQ.pdf', 'page': 6}, page_content='• Adjusting visual effects can improve performance. On Windows, right -click on \"This PC\" \\nor \"My Computer,\" select \"Properties,\" then go to \"Advanced system settings.\" Under the \\n\"Performance\" section, click on \"Settings\" and choose \"Adjust for best performa nce\" or \\nmanually disable specific visual effects.  \\n6. Update software and drivers:  \\n• Ensure that your operating system, drivers, and software are up to date. Updates often \\ninclude bug fixes and performance improvements.  \\n7. Increase virtual memory:  \\n• Adjusting virtual memory (also known as the page file) can help improve performance. \\nOn Windows, go to \"Advanced system settings\" (follow step 5), click on the \"Advanced\" tab, and \\nunder the \"Performance\" section, click on \"Settings.\" Go to the \"Advanced\"  tab again and click \\non \"Change\" under Virtual Memory. Adjust the settings based on your system\\'s specifications or \\nlet Windows manage it automatically.  \\n8. Upgrade hardware components:'),\n",
       " Document(metadata={'source': '.\\\\data\\\\BonBon FAQ.pdf', 'page': 6}, page_content=\"let Windows manage it automatically.  \\n8. Upgrade hardware components:  \\n• If your computer continues to run slowly after performing the above steps, consider \\nupgrading hardware components such as adding more RAM or replacing the hard drive with a \\nsolid -state drive (SSD). Consult with a professional or refer to your computer's documentation \\nfor compatibility and installation instructions.  \\n9. Regularly maintain your computer:  \\n• Perform regular disk cleanup, disk defragmentation (if using a traditional hard drive), \\nand system maintenance tasks. These tasks can optimize performance and improve overall \\nstability.  \\n \\n6) Q: How do I install a software application?  \\nA: \\n1. Any Corp does not permit the installation of software applications without prior approval.  \\n2. Please check Any Corp’s Intranet page > Approved Software Catalogue  \\n3. Find the software you wish to install and follow the instructions in the read.me which \\ndownloads automatically with the installation file\"),\n",
       " Document(metadata={'source': '.\\\\data\\\\BonBon FAQ.pdf', 'page': 6}, page_content=\"downloads automatically with the installation file  \\n4. If you can’t find the software in the Catalogue, please contact the IT Helpdesk  \\n \\nQ: I can't print. What should I check or do to fix the issue?  \\n1. Check printer connections:\"),\n",
       " Document(metadata={'source': '.\\\\data\\\\BonBon FAQ.pdf', 'page': 7}, page_content='• Ensure that your printer is properly connected to your laptop via USB, network, or \\nwireless connection. Make sure all cables are securely connected.  \\n2. Confirm printer power and status:  \\n• Check that your printer is turned on and has no error messages or warning lights \\nindicating an issue. If necessary, refer to the printer\\'s manual for troubleshooting steps.  \\n3. Set printer as default:  \\n• On your laptop, go to the \"Control Panel\" (Windows) or \"System Preferences\" (Mac) and \\nnavigate to the \"Printers\" or \"Print & Scan\" section. Right -click on your printer and select \"Set as \\ndefault printer\" (Windows) or click the lock icon and enter your pa ssword, then select your \\nprinter and click the \"Set as default\" button (Mac).  \\n4. Clear print queue:  \\n• Sometimes, print jobs can get stuck in the print queue and cause issues. Open the print \\nqueue by clicking on the printer icon in the system tray (Windows) or the printer settings (Mac).'),\n",
       " Document(metadata={'source': '.\\\\data\\\\BonBon FAQ.pdf', 'page': 7}, page_content=\"queue by clicking on the printer icon in the system tray (Windows) or the printer settings (Mac). \\nCancel any pending print jobs, and then try printing again.  \\n5. Restart printer and laptop:  \\n• Power off your printer and laptop completely. Wait for a few seconds, then power them \\nback on. This can resolve temporary issues and refresh the printer and computer connections.  \\n6. Update printer drivers:  \\n• Outdated or incompatible printer drivers can cause printing problems. Visit the printer \\nmanufacturer's website and search for the latest drivers for your specific printer model. \\nDownload and install the updated drivers on your laptop.  \\n7. Check printer settings:  \\n• Open the printer properties or settings on your laptop. Ensure that the correct printer is \\nselected and verify that the settings (such as paper size, print quality, etc.) match your desired \\nprint job.  \\n8. Test with a different document or application:\"),\n",
       " Document(metadata={'source': '.\\\\data\\\\BonBon FAQ.pdf', 'page': 7}, page_content='print job.  \\n8. Test with a different document or application:  \\n• Try printing from a different document or application to see if the issue is specific to one \\nfile or program. If you can print successfully from other sources, the problem may lie within the \\noriginal document or application.  \\n9. Restart print spooler service (Windows):  \\n• Open the \"Services\" application on your laptop. Locate the \"Print Spooler\" service, right -\\nclick on it, and select \"Restart.\" This action clears the print spooler and can resolve certain \\nprinting issues.  \\n10. Reinstall printer software:'),\n",
       " Document(metadata={'source': '.\\\\data\\\\BonBon FAQ.pdf', 'page': 8}, page_content='• If all else fails, uninstall the printer software from your laptop and reinstall it. Visit the \\nprinter manufacturer\\'s website and download the latest software for your printer model. Follow \\nthe provided instructions to reinstall the printer on your lapto p. \\n7) Q: How do I access shared network drives?  \\nA: \\n1) Ensure Network Connectivity:  \\n• Make sure your computer is connected to the network, either via Ethernet cable or Wi -Fi. \\n \\n2) Know the Shared Drive Path:  \\n• You should have the network path or UNC (Universal Naming Convention) of the shared \\ndrive. It typically looks like this: \\\\\\\\computername \\\\sharename or \\\\\\\\IP_address \\\\sharename.  \\n \\n3) Open File Explorer:  \\n• Open File Explorer (Windows Explorer) on your computer.  \\n \\n4) Map a Network Drive (Optional):  \\n• If you want to access the shared drive frequently, you can map it as a network drive:  \\n \\n5) In File Explorer, go to \"This PC.\"  \\n• Click on \"Computer\" in the top menu and select \"Map network drive.\"'),\n",
       " Document(metadata={'source': '.\\\\data\\\\BonBon FAQ.pdf', 'page': 8}, page_content='• Click on \"Computer\" in the top menu and select \"Map network drive.\"  \\n• Choose a drive letter and enter the UNC path (e.g., \\\\\\\\server \\\\share).  \\n• Check the box that says \"Reconnect at sign -in\" if you want it to be available every time you \\nlog in.  \\n• Click \"Finish.\"  \\n \\n6) Access the Shared Drive:  \\n• If you\\'ve mapped the drive, you can find it under \"This PC\" with the assigned drive letter.  \\n• If you haven\\'t mapped the drive, you can directly access it by entering the UNC path in the \\naddress bar of File Explorer and pressing Enter.  \\n \\n7) Provide Credentials (if required):  \\n• If the shared drive requires authentication, a window may pop up asking for a username and \\npassword. Enter your credentials, and check \"Remember my credentials\" if you want to \\navoid entering them every time.'),\n",
       " Document(metadata={'source': '.\\\\data\\\\BonBon FAQ.pdf', 'page': 9}, page_content=\"8) Access Files and Folders:  \\n• Once you're connected to the shared drive, you can browse, open, and manage files and \\nfolders just like you would on your local drive.  \\nPlease note that the exact steps may vary depending on your network configuration and the version of \\nWindows you are using. Additionally, you'll need appropriate permissions and credentials to access the \\nshared drive.  \\n8) Q: My computer is infected with malware. What steps should I take to remove it?  \\nA: \\n1)   Isolate the infected computer:  \\n• Disconnect from the internet to prevent the malware from communicating with its \\ncommand and control servers.  \\n• Disconnect any external storage devices, such as USB drives, to prevent further infection.  \\n2)  Identify the malware:  \\n• Use reputable antivirus or anti -malware software to scan your computer and identify the \\nmalware. If you don't have one installed, consider downloading and installing a trusted \\nantivirus program.  \\n3)  Remove the malware:\"),\n",
       " Document(metadata={'source': '.\\\\data\\\\BonBon FAQ.pdf', 'page': 9}, page_content='antivirus program.  \\n3)  Remove the malware:  \\n• Follow the instructions provided by your antivirus software to remove the detected \\nmalware. This often involves quarantining or deleting infected files and cleaning your \\nsystem.  \\n4)  Update your operating system and software:  \\n• Make sure your operating system and all installed software are up to date. Malware often \\ntakes advantage of vulnerabilities in outdated software.  \\n 5)  Change passwords:  \\n• If you suspect that the malware has access to your sensitive information, change your \\npasswords for important accounts, such as email, online banking, and social media.  \\n6) Restore or reinstall the operating system (if necessary):  \\n• In severe cases, you may need to reinstall your operating system to ensure complete \\nremoval of the malware. Make sure to back up your important data before doing this.  \\n7) Install preventive measures:  \\n• After removing the malware, install reputable antivirus software and keep it updated to help'),\n",
       " Document(metadata={'source': '.\\\\data\\\\BonBon FAQ.pdf', 'page': 9}, page_content=\"• After removing the malware, install reputable antivirus software and keep it updated to help \\nprevent future infections. Also, enable your computer's built -in firewall.  \\n \\n9) Q. How do I connect to the Any Corp’s Corporate VPN (Virtual Private Network)?  \\nA:\"),\n",
       " Document(metadata={'source': '.\\\\data\\\\BonBon FAQ.pdf', 'page': 10}, page_content='1)  Obtain VPN Credentials : \\n• Your company\\'s IT department will provide you with the necessary credentials for \\nconnecting to the VPN. This typically includes a username and a password, and sometimes \\nadditional information like a VPN server address  \\n     2)  Install VPN Software (if required):  \\n• Any Corp may offer custom VPN client software. If they do, you should download and install \\nthis software on your computer or device.  \\n    3)  Configure VPN Settings (if using built -in clients):  \\n• If Any Corp uses standard VPN protocols (e.g., PPTP, L2TP, IPSec, OpenVPN), you can \\nconfigure the VPN connection using the built -in VPN clients of your operating system. Here \\nare the general steps for Windows and macOS:  \\no Windows:  \\n▪ Go to \"Settings\" > \"Network & Internet\" > \"VPN.\"  \\n▪ Click \"Add a VPN connection\" and enter the provided VPN server address, \\nyour username, and password.  \\n▪ You may need to configure additional settings based on your company\\'s \\nVPN requirements.'),\n",
       " Document(metadata={'source': '.\\\\data\\\\BonBon FAQ.pdf', 'page': 10}, page_content='▪ You may need to configure additional settings based on your company\\'s \\nVPN requirements.  \\no macOS:  \\n▪ Go to \"System Preferences\" > \"Network.\"  \\n▪ Click the \"+\" button to add a new network connection, then choose \"VPN.\"  \\n▪ Follow the prompts to configure the VPN settings, including the server \\naddress, your username, and password.  \\n  4) Mobile Device Configuration (if needed):  \\n• If you need to connect to Any Corp\\'s VPN on a mobile device (iOS or Android), you can \\nusually find VPN settings in the device\\'s network or connection settings. Enter the VPN \\ndetails provided by your IT department.  \\n5) Manual Configuration (if necessary):  \\n• If you don\\'t have custom VPN software and need to set up the VPN manually, you will \\nrequire specific information such as:  \\n▪ VPN server address or hostname  \\n▪ VPN protocol (e.g., PPTP, L2TP, IPSec, OpenVPN)  \\n▪ Username and password  \\n▪ Any additional settings or certificates required  \\n6) Connect to the VPN:'),\n",
       " Document(metadata={'source': '.\\\\data\\\\BonBon FAQ.pdf', 'page': 10}, page_content='▪ Any additional settings or certificates required  \\n6) Connect to the VPN:  \\n• Open the VPN client or use the built -in VPN settings, then enter the provided information. \\nClick \"Connect\" to establish the VPN connection.'),\n",
       " Document(metadata={'source': '.\\\\data\\\\BonBon FAQ.pdf', 'page': 11}, page_content=\"7) Authentication:  \\n• You will likely be prompted to enter your username and password to authenticate yourself. \\nIf Any Corp uses two -factor authentication (2FA), follow the additional steps as required.  \\n8) Access Corporate Resources:  \\n•  Once connected to the VPN, your internet traffic will be routed through Any Corp's \\nnetwork, and you will have access to company resources that are typically available only \\nwithin the corporate network.  \\n9) Disconnect:  \\n• Remember to disconnect from the VPN when you no longer need it to ensure that your \\ninternet traffic returns to its regular route.  \\n10) Q: Can you help me set up a secure password for my accounts?  \\nA:  \\n1) Length:  \\n• Make your password at least 12 characters long. Longer passwords are generally stronger.  \\n2) Complexity:   \\n• Use a mix of characters, including uppercase letters, lowercase letters, numbers, and \\nspecial symbols (e.g., !, @, #, $, %, etc.). The more character types you use, the stronger \\nyour password.\"),\n",
       " Document(metadata={'source': '.\\\\data\\\\BonBon FAQ.pdf', 'page': 11}, page_content='your password.  \\n3) Avoid Common Words:  \\n• Avoid using easily guessable words, such as \"password,\" \"123456,\" or common dictionary \\nwords. Hackers use dictionary attacks to guess passwords.  \\n4) Avoid Personal Information:  \\n• Don\\'t use personal information like your name, birthdate, or family members\\' names. This \\ninformation is often publicly available on social media.  \\n5) No Sequential or Repeated Characters:  \\n• Avoid sequences like \"123456\" or \"abcdef,\" and don\\'t repeat characters like \"aaaa.\"  \\n6) Passphrases:  \\n• Consider using a passphrase, which is a series of random words or a memorable phrase. \\nFor example, \"PurpleTiger$DancesUnderMoonlight!\"  \\n7) Avoid Easily Guessable Patterns:  \\n• Don\\'t use patterns like \"qwerty\" or \"asdfgh.\"  \\n8) Unique Passwords for Each Account:'),\n",
       " Document(metadata={'source': '.\\\\data\\\\BonBon FAQ.pdf', 'page': 12}, page_content=\"• Avoid using the same password for multiple accounts. Use a different, unique password \\nfor each account you have.  \\n9) Password Managers:  \\n• Consider using a reputable password manager to generate, store, and autofill your \\npasswords. Password managers can help you create and manage complex passwords \\nwithout having to remember them all.  \\n10) Change Passwords Regularly:  \\n• It's a good practice to change your passwords periodically, especially for important \\naccounts.  \\n \\n \\nQ: What does NashTech Business Process Outsourcing Team does?  \\nA: NashTech has 2000 employees supporting hundreds of clients across multiple different industries \\nsegments including retail & e -Commerce, technology, BFSI (banking, financial services & insurance), \\neducation, FMCG, manufacturing, professional services, and t ransportation. We handle more than 20 \\nmillion data transactions per month in 28 languages with exceptional outcomes. Our delivery centers\"),\n",
       " Document(metadata={'source': '.\\\\data\\\\BonBon FAQ.pdf', 'page': 12}, page_content='are based in Vietnam and offer competitive cost advantage when compared to running inhouse \\noperations. We consisten tly help drive operational costs for our clients down by 30% to 50%, offering \\nflexible teams which can be quickly ramped up and down to match your requirements. We provide \\nleadership expertise in areas of business process outsourcing, process automation so lutions and \\nbusiness process re -engineering. Our skilled teams help you undertake the first step of mapping your \\ncurrent processes and perform critical business analysis to determine how you can improve productivity \\nand reduce waste in your process landsca pe. We have skilled professionals working in the following \\nareas:  \\nData processing: Including data acquisition, data input, data migration, data preparation for machine \\nlearning, data labelling and categorization.  \\nData quality management: Including verifying, standardizing, and auditing data .'),\n",
       " Document(metadata={'source': '.\\\\data\\\\BonBon FAQ.pdf', 'page': 12}, page_content='Data quality management: Including verifying, standardizing, and auditing data . \\nLanguage services: NashTech can support business process outsourcing in over 28 languages . \\nSales and Marketing support:  Including customer experience, promotional services and support for Sales \\nand Marketing, including campaign management and Customer Relationship administration . \\nDigitization:  Including content extraction and validation, paper to digital conversion, document \\nmanagement . \\nBack -office operations:  HR & admin support, image processing, financial service, claim administration . \\nMarket research:  Including market data collection, consolidation, analysis, and reporting.'),\n",
       " Document(metadata={'source': '.\\\\data\\\\BonBon FAQ.pdf', 'page': 13}, page_content='Content enrichment:  Digital content enrichments, validation and management including but not limited \\nto website, mobile apps, online platform.')]"
      ]
     },
     "execution_count": 4,
     "metadata": {},
     "output_type": "execute_result"
    }
   ],
   "source": [
    "# SPLIT DATA INTO SMALL CHUNK\n",
    "\n",
    "from langchain.text_splitter import RecursiveCharacterTextSplitter\n",
    "\n",
    "text_splitter = RecursiveCharacterTextSplitter(chunk_size=1000, chunk_overlap=100)\n",
    "texts = text_splitter.split_documents(documents)\n",
    "texts"
   ]
  },
  {
   "cell_type": "code",
   "execution_count": 5,
   "metadata": {},
   "outputs": [],
   "source": [
    "# SETUP EMBEDDING\n",
    "\n",
    "from langchain_openai import AzureOpenAIEmbeddings\n",
    "\n",
    "embeddings: AzureOpenAIEmbeddings = AzureOpenAIEmbeddings(\n",
    "    azure_deployment=OPENAI_ADA_EMBEDDING_MODEL_NAME,\n",
    "    openai_api_version=OPENAI_DEPLOYMENT_VERSION,\n",
    "    azure_endpoint=OPENAI_DEPLOYMENT_ENDPOINT,\n",
    "    api_key=OPENAI_API_KEY,\n",
    ")"
   ]
  },
  {
   "cell_type": "code",
   "execution_count": 6,
   "metadata": {},
   "outputs": [
    {
     "data": {
      "text/plain": [
       "['b5c73e47-20c3-4e84-b4c7-85751ca75469',\n",
       " 'c86bab28-e505-4da3-89d2-0debc0382182',\n",
       " 'a16f548f-5c79-4e42-9a8e-7232583dbac3',\n",
       " '3560983c-3d6e-44e6-8835-bba6876f7f5f',\n",
       " '4cbba9d3-3ec4-46dd-b8ca-52c698cfd5f9',\n",
       " '5327b71b-1ff7-49ab-bcf8-464ecfd31684',\n",
       " 'da5ac275-df10-4601-a51d-f3ee14c73fbf',\n",
       " '7e773731-0831-4436-b7b4-91e8ae0e7aab',\n",
       " '9861e4ba-8158-454e-ba10-c4ca9075fe2f',\n",
       " '3a0227a5-ce76-4174-b43a-34dc30dc68b4',\n",
       " '0514ed71-d340-48d2-a17b-572ed0477a0a',\n",
       " '50f6ad0e-0e19-49cc-9096-97079ca23882',\n",
       " '30e938f4-6eae-4764-b221-fdf3045e6289',\n",
       " '47ad86e1-f372-47af-8723-0bec2ac98f70',\n",
       " 'f6770838-d1f4-4cbf-bbe8-f33a83657782',\n",
       " '4fba4628-5d81-4c1a-84e6-4cb97a54ecb4',\n",
       " '05673b2b-8ed9-46da-9542-8c676ea27abd',\n",
       " '60eb6e13-b99f-4e2b-81e5-3650c7ac8ed6',\n",
       " '7769bead-cae5-45f8-9e44-f5733f403aed',\n",
       " 'd212aad0-b4f4-4b4b-b218-66010261188c',\n",
       " '33172e72-b452-46ec-90a9-7dc1668fcca7',\n",
       " '25071fad-d327-426d-9dca-204bbc73c8e8',\n",
       " '9107c502-31a5-4f67-83e8-ff32974dcf32',\n",
       " 'fcb7b8de-7b55-453f-ae83-8857112c0c66',\n",
       " '4175970a-d4bd-457d-9761-29cbbaa67c0a',\n",
       " 'a830edd9-2513-49c1-be5f-5ba8cc449192',\n",
       " 'd2d02d37-05aa-4255-9601-2c8f885f9bba',\n",
       " 'e928786f-2701-4134-83b1-a3ce797adbcb',\n",
       " '0bcffd16-4fe7-420a-9678-e78027e9b4be',\n",
       " '467eafd7-0503-44d7-9a32-034a540ccfb8',\n",
       " '7f1c56cd-8e68-4ead-8274-e01c116511e4',\n",
       " 'f93e0213-cd47-4742-aa29-caf9e0a40db2',\n",
       " 'aadc1959-f23c-454b-b4f1-a6e6bf65a1e6',\n",
       " 'a69e1129-1a68-4de1-8b61-2c8ecea0823c',\n",
       " 'd1136f7a-861e-4803-baa4-977c1ca8d04d',\n",
       " '9342b7fc-338a-45c2-8c27-e3a006638bf5']"
      ]
     },
     "execution_count": 6,
     "metadata": {},
     "output_type": "execute_result"
    }
   ],
   "source": [
    "# CREATE DATABASE AND ADD VECTOR TO DATABASE\n",
    "\n",
    "from langchain_chroma import Chroma\n",
    "\n",
    "vector_store = Chroma(\n",
    "    collection_name=\"collection\",\n",
    "    embedding_function=embeddings,\n",
    "    persist_directory=\"./chroma_langchain_db\",\n",
    ")\n",
    "\n",
    "vector_store.add_documents(texts)"
   ]
  },
  {
   "cell_type": "code",
   "execution_count": 7,
   "metadata": {},
   "outputs": [
    {
     "name": "stdout",
     "output_type": "stream",
     "text": [
      "page_content='Data quality management: Including verifying, standardizing, and auditing data . \n",
      "Language services: NashTech can support business process outsourcing in over 28 languages . \n",
      "Sales and Marketing support:  Including customer experience, promotional services and support for Sales \n",
      "and Marketing, including campaign management and Customer Relationship administration . \n",
      "Digitization:  Including content extraction and validation, paper to digital conversion, document \n",
      "management . \n",
      "Back -office operations:  HR & admin support, image processing, financial service, claim administration . \n",
      "Market research:  Including market data collection, consolidation, analysis, and reporting.' metadata={'page': 12, 'source': '.\\\\data\\\\BonBon FAQ.pdf'}\n",
      "page_content='Data quality management: Including verifying, standardizing, and auditing data . \n",
      "Language services: NashTech can support business process outsourcing in over 28 languages . \n",
      "Sales and Marketing support:  Including customer experience, promotional services and support for Sales \n",
      "and Marketing, including campaign management and Customer Relationship administration . \n",
      "Digitization:  Including content extraction and validation, paper to digital conversion, document \n",
      "management . \n",
      "Back -office operations:  HR & admin support, image processing, financial service, claim administration . \n",
      "Market research:  Including market data collection, consolidation, analysis, and reporting.' metadata={'page': 12, 'source': '.\\\\data\\\\BonBon FAQ.pdf'}\n",
      "page_content='Data quality management: Including verifying, standardizing, and auditing data . \n",
      "Language services: NashTech can support business process outsourcing in over 28 languages . \n",
      "Sales and Marketing support:  Including customer experience, promotional services and support for Sales \n",
      "and Marketing, including campaign management and Customer Relationship administration . \n",
      "Digitization:  Including content extraction and validation, paper to digital conversion, document \n",
      "management . \n",
      "Back -office operations:  HR & admin support, image processing, financial service, claim administration . \n",
      "Market research:  Including market data collection, consolidation, analysis, and reporting.' metadata={'page': 12, 'source': '.\\\\data\\\\BonBon FAQ.pdf'}\n",
      "page_content='Data quality management: Including verifying, standardizing, and auditing data . \n",
      "Language services: NashTech can support business process outsourcing in over 28 languages . \n",
      "Sales and Marketing support:  Including customer experience, promotional services and support for Sales \n",
      "and Marketing, including campaign management and Customer Relationship administration . \n",
      "Digitization:  Including content extraction and validation, paper to digital conversion, document \n",
      "management . \n",
      "Back -office operations:  HR & admin support, image processing, financial service, claim administration . \n",
      "Market research:  Including market data collection, consolidation, analysis, and reporting.' metadata={'page': 12, 'source': '.\\\\data\\\\BonBon FAQ.pdf'}\n"
     ]
    }
   ],
   "source": [
    "# TEST RESULT WITH SAMPLE QUERY\n",
    "\n",
    "results = vector_store.search(\n",
    "    query=\"What does NashTech Business Process Outsourcing Team do?\",\n",
    "    search_type=\"similarity\"\n",
    ")\n",
    "\n",
    "for result in results:\n",
    "    print(result)"
   ]
  },
  {
   "cell_type": "markdown",
   "metadata": {},
   "source": [
    "## Assignment 2: Building Chatbot (mandatory)\n",
    "- You are requested to build a chatbot solution for customer support scenario using Conversational ReAct agent supported in LangChain\n",
    "- The chatbot is able to support user to answer FAQs in the sample BonBon FAQ.pdf file.\n",
    "- The chatbot should use Azure Open AI GPT-3.5 LLM as the reasoning engine.\n",
    "- The chatbot should be context aware, meaning that it should be able to chat with users in the conversation manner.\n",
    "- The agent is equipped the following tools:\n",
    "  - Internet Search: Help the chatbot automatically find out more about something using Duck Duck Go internet search\n",
    "  - Knowledge Base Search: Help the chatbot to lookup information in the private knowledge base\n",
    "- In case user asks for information related to topics in the BonBon FAQ.pdf file such as internet connection, printer, malware issues the chatbot must use the private knowledge base, otherwise it should search on the internet to answer the question.\n",
    "- In the answer of chatbot, it should mention the source file and the page that the answer belongs to, for example the answer should mention \"BonBon FQA.pdf (page 2)\""
   ]
  },
  {
   "cell_type": "code",
   "execution_count": 14,
   "metadata": {},
   "outputs": [],
   "source": [
    "# SETUP LLM WITH AZURE CHAT OPEN AI\n",
    "\n",
    "from langchain_openai import AzureChatOpenAI\n",
    "\n",
    "llm = AzureChatOpenAI(\n",
    "    deployment_name=OPENAI_MODEL_NAME,\n",
    "    model_name=OPENAI_MODEL_NAME,\n",
    "    azure_endpoint=OPENAI_DEPLOYMENT_ENDPOINT,\n",
    "    api_version=OPENAI_DEPLOYMENT_VERSION,\n",
    "    api_key=OPENAI_API_KEY,\n",
    "    temperature=0,\n",
    ")"
   ]
  },
  {
   "cell_type": "code",
   "execution_count": 18,
   "metadata": {},
   "outputs": [
    {
     "name": "stderr",
     "output_type": "stream",
     "text": [
      "c:\\Users\\du.luongkhanh\\Downloads\\python\\BonBon_Assignment\\.venv\\Lib\\site-packages\\langsmith\\client.py:323: LangSmithMissingAPIKeyWarning: API key must be provided when using hosted LangSmith API\n",
      "  warnings.warn(\n"
     ]
    },
    {
     "name": "stdout",
     "output_type": "stream",
     "text": [
      "Question: hello\n",
      "Responding ...\n",
      "Final Answer: Agent stopped due to iteration limit or time limit. \n",
      "\n",
      "Question: translate: hello from english to vietnamese\n",
      "Responding ...\n",
      "Final Answer: The translation of \"hello\" from English to Vietnamese is \"Xin chào\" (pronounced like 'sin chow'). This is the most common and polite way to greet someone in Vietnamese. \n",
      "\n"
     ]
    }
   ],
   "source": [
    "# SETUP CHAT\n",
    "\n",
    "from langchain_core.prompts.prompt import PromptTemplate\n",
    "from langchain.tools.retriever import create_retriever_tool\n",
    "from langchain.chains import LLMMathChain\n",
    "from langchain_community.tools import DuckDuckGoSearchRun\n",
    "from langchain.agents import (\n",
    "    AgentExecutor,\n",
    "    Tool,\n",
    "    create_react_agent,\n",
    ")\n",
    "from langchain import hub\n",
    "from langchain.memory import ConversationEntityMemory\n",
    "\n",
    "doc_prompt = PromptTemplate.from_template(\n",
    "    \"<context>\\n{page_content}\\n\\n<meta>\\nsource: {source}\\npage: {page} + 1\\n</meta>\\n</context>\"\n",
    ")\n",
    "tool_search = create_retriever_tool(\n",
    "    retriever=vector_store.as_retriever(),\n",
    "    name=\"Search BonBon\",\n",
    "    description=\"Searches and returns answer from BONBON FAQ.\",\n",
    "    document_prompt=doc_prompt,\n",
    ")\n",
    "\n",
    "math_chain = LLMMathChain.from_llm(llm=llm)\n",
    "duckduck = DuckDuckGoSearchRun()\n",
    "\n",
    "tools = [\n",
    "    tool_search,\n",
    "    Tool(\n",
    "        name=\"Duck Duck Go\",\n",
    "        func=duckduck.run,\n",
    "        description=\"useful for when you need to search for more information on the internet with Duck Duck Go search\",\n",
    "    ),\n",
    "    Tool(\n",
    "        name=\"Calculator\",\n",
    "        func=math_chain.run,\n",
    "        description=\"use this tool for math calculating\",\n",
    "    ),\n",
    "]\n",
    "\n",
    "template = \"\"\"\n",
    "Answer the following questions as best you can. You can use history {history} to fill in unknown context. You have access to the following tools:\n",
    "\n",
    "{tools}\n",
    "\n",
    "Use the following format:\n",
    "Remember: If any invalid format occurs, terminate and return answer\n",
    "Question: the input question you must answer\n",
    "Thought: you should always think about what to do\n",
    "Action (if existed): the action to take, find in Search BonBon tool first, then should be one of [{tool_names}] (one of [Search BonBon, Duck Duck Go, Calculator]). If DuckDuckGo has already been used, skip it. If not, terminate answer\n",
    "Action Input (if existed): the input to the action\n",
    "Observation: the result of the action\n",
    "... (this Thought/Action/Action Input/Observation can repeat at most 5 times.)\n",
    "Thought: I now know the final answer. Let's return the answer\n",
    "Final Answer: the final answer to the original input question. If use Search BonBon then include the page of the PDF file that has the question\n",
    "\n",
    "Begin!\n",
    "Context:\n",
    "{entities}\n",
    "\n",
    "Current conversation:\n",
    "Chat History:\n",
    "{history}\n",
    "Last line:\n",
    "Human: {input}\n",
    "Thought: {agent_scratchpad}\n",
    "\"\"\"\n",
    "prompt_react = hub.pull(\"hwchase17/react\")\n",
    "prompt_react.template = template\n",
    "react_agent = create_react_agent(llm=llm, tools=tools, prompt=prompt_react)\n",
    "react_agent_executor = AgentExecutor(\n",
    "    agent=react_agent,\n",
    "    tools=tools,\n",
    "    verbose=False,\n",
    "    handle_parsing_errors=True,\n",
    "    memory=ConversationEntityMemory(llm=llm, top_k=3),\n",
    "    max_iterations=3\n",
    ")\n",
    "i = input(\"enter promt ('exit' to terminate): \")\n",
    "while i.lower() != \"exit\":\n",
    "    print(f\"Question: {i}\")\n",
    "    print(\"Responding ...\")\n",
    "    response = react_agent_executor.invoke({\"input\": i})\n",
    "    result = response.get(\"output\")\n",
    "    print(f\"Final Answer: {result} \\n\")\n",
    "    i = input(\"enter new promt ('exit' to terminate): \")"
   ]
  },
  {
   "cell_type": "markdown",
   "metadata": {},
   "source": [
    "## Assignment 3: Build a new assistant based on BonBon source code (optional)\n",
    "The objective\n",
    "- Run the code and index the sample BonBon FAQ.pdf file to Azure Cognitive Search\n",
    "- Explore the code and implement a new assistant that has the same behavior as above\n",
    "- Explore other features such as RBACs, features on admin portal\n",
    "\n",
    "Please contact the training team in case you need to get the source code of BonBon."
   ]
  }
 ],
 "metadata": {
  "kernelspec": {
   "display_name": "langchain",
   "language": "python",
   "name": "python3"
  },
  "language_info": {
   "codemirror_mode": {
    "name": "ipython",
    "version": 3
   },
   "file_extension": ".py",
   "mimetype": "text/x-python",
   "name": "python",
   "nbconvert_exporter": "python",
   "pygments_lexer": "ipython3",
   "version": "3.11.10"
  }
 },
 "nbformat": 4,
 "nbformat_minor": 2
}
