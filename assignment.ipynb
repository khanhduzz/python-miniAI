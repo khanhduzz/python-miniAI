{
 "cells": [
  {
   "cell_type": "markdown",
   "metadata": {},
   "source": [
    "# Pre-requisites\n",
    "- WSL\n",
    "- Miniconda3 "
   ]
  },
  {
   "cell_type": "markdown",
   "metadata": {},
   "source": [
    "# Setup environment\n",
    "- Create conda env `conda create langchain python=3.11`\n",
    "- Set the \"langchain\" env that has been just created as the running env in VS code\n"
   ]
  },
  {
   "cell_type": "markdown",
   "metadata": {},
   "source": [
    "Install langchain and openai package"
   ]
  },
  {
   "cell_type": "code",
   "execution_count": null,
   "metadata": {},
   "outputs": [],
   "source": [
    "! pip install langchain openai"
   ]
  },
  {
   "cell_type": "markdown",
   "metadata": {},
   "source": [
    "# Init variables"
   ]
  },
  {
   "cell_type": "markdown",
   "metadata": {},
   "source": [
    "You need to set value of `OPENAI_API_KEY` that you get from the training team in the .env file"
   ]
  },
  {
   "cell_type": "code",
   "execution_count": 26,
   "metadata": {},
   "outputs": [],
   "source": [
    "# SETUP ENVIRONMENT VARIABLE\n",
    "\n",
    "import openai, os\n",
    "from dotenv import load_dotenv\n",
    "\n",
    "load_dotenv()\n",
    "\n",
    "OPEN_API_TYPE = \"azure\"\n",
    "OPENAI_API_KEY = os.getenv(\"OPENAI_API_KEY\")\n",
    "OPENAI_DEPLOYMENT_ENDPOINT = os.getenv(\"AZURE_OPENAI_ENDPOINT\")\n",
    "OPENAI_DEPLOYMENT_VERSION = \"2023-05-15\"\n",
    "OPENAI_MODEL_NAME = \"gpt-4o\"\n",
    "\n",
    "OPENAI_ADA_EMBEDDING_MODEL_NAME = \"text-embedding-ada-002\""
   ]
  },
  {
   "cell_type": "markdown",
   "metadata": {},
   "source": [
    "# Overviews\n",
    "The BonBon FAQ.pdf file contains frequently asked questions and answers for customer support scenario. The topics are around IT related issue troubleshooting such as networking, software, hardware. You are requested to provide a solution to build a chat bot capable of answering the user questions with LangChain."
   ]
  },
  {
   "cell_type": "markdown",
   "metadata": {},
   "source": [
    "## Assignment 1: Document Indexing (mandatory)"
   ]
  },
  {
   "cell_type": "markdown",
   "metadata": {},
   "source": [
    "- The content of BonBon FAQ.pdf should be indexed to the local Chroma vector DB from where the chatbot can lookup the appropriate information to answer questions.\n",
    "- Should use some embedding model such as Azure Open AI text-embedding-ada-002 to create vectors, feel free to use any other open source embedding model if it works."
   ]
  },
  {
   "cell_type": "code",
   "execution_count": null,
   "metadata": {},
   "outputs": [],
   "source": [
    "# READING THE DATA INSIDE THE \"BonBon FAQ.pdf\"\n",
    "\n",
    "from langchain_community.document_loaders import PyPDFLoader\n",
    "\n",
    "loader = PyPDFLoader(\".\\data\\BonBon FAQ.pdf\")\n",
    "documents = loader.load()\n",
    "documents"
   ]
  },
  {
   "cell_type": "code",
   "execution_count": null,
   "metadata": {},
   "outputs": [],
   "source": [
    "# SPLIT DATA INTO SMALL CHUNK\n",
    "\n",
    "from langchain.text_splitter import RecursiveCharacterTextSplitter\n",
    "\n",
    "text_splitter = RecursiveCharacterTextSplitter(chunk_size=1000, chunk_overlap=100)\n",
    "texts = text_splitter.split_documents(documents)\n",
    "texts"
   ]
  },
  {
   "cell_type": "code",
   "execution_count": 27,
   "metadata": {},
   "outputs": [],
   "source": [
    "# SETUP EMBEDDING\n",
    "\n",
    "from langchain_openai import AzureOpenAIEmbeddings\n",
    "\n",
    "embeddings: AzureOpenAIEmbeddings = AzureOpenAIEmbeddings(\n",
    "    azure_deployment=OPENAI_ADA_EMBEDDING_MODEL_NAME,\n",
    "    openai_api_version=OPENAI_DEPLOYMENT_VERSION,\n",
    "    azure_endpoint=OPENAI_DEPLOYMENT_ENDPOINT,\n",
    "    api_key=OPENAI_API_KEY,\n",
    ")"
   ]
  },
  {
   "cell_type": "code",
   "execution_count": null,
   "metadata": {},
   "outputs": [],
   "source": [
    "# CREATE DATABASE AND ADD VECTOR TO DATABASE\n",
    "\n",
    "from langchain_chroma import Chroma\n",
    "\n",
    "vector_store = Chroma(\n",
    "    collection_name=\"collection\",\n",
    "    embedding_function=embeddings,\n",
    "    persist_directory=\"./chroma_langchain_db\",\n",
    ")\n",
    "\n",
    "vector_store.add_documents(texts)"
   ]
  },
  {
   "cell_type": "code",
   "execution_count": null,
   "metadata": {},
   "outputs": [],
   "source": [
    "# TEST RESULT WITH SAMPLE QUERY\n",
    "\n",
    "results = vector_store.search(\n",
    "    query=\"What does NashTech Business Process Outsourcing Team do?\",\n",
    "    search_type=\"similarity\"\n",
    ")\n",
    "\n",
    "for result in results:\n",
    "    print(result)"
   ]
  },
  {
   "cell_type": "markdown",
   "metadata": {},
   "source": [
    "## Assignment 2: Building Chatbot (mandatory)\n",
    "- You are requested to build a chatbot solution for customer support scenario using Conversational ReAct agent supported in LangChain\n",
    "- The chatbot is able to support user to answer FAQs in the sample BonBon FAQ.pdf file.\n",
    "- The chatbot should use Azure Open AI GPT-3.5 LLM as the reasoning engine.\n",
    "- The chatbot should be context aware, meaning that it should be able to chat with users in the conversation manner.\n",
    "- The agent is equipped the following tools:\n",
    "  - Internet Search: Help the chatbot automatically find out more about something using Duck Duck Go internet search\n",
    "  - Knowledge Base Search: Help the chatbot to lookup information in the private knowledge base\n",
    "- In case user asks for information related to topics in the BonBon FAQ.pdf file such as internet connection, printer, malware issues the chatbot must use the private knowledge base, otherwise it should search on the internet to answer the question.\n",
    "- In the answer of chatbot, it should mention the source file and the page that the answer belongs to, for example the answer should mention \"BonBon FQA.pdf (page 2)\""
   ]
  },
  {
   "cell_type": "code",
   "execution_count": 50,
   "metadata": {},
   "outputs": [],
   "source": [
    "from langchain_openai import AzureChatOpenAI\n",
    "\n",
    "llm = AzureChatOpenAI(\n",
    "    deployment_name=OPENAI_MODEL_NAME,\n",
    "    model_name=OPENAI_MODEL_NAME,\n",
    "    azure_endpoint=OPENAI_DEPLOYMENT_ENDPOINT,\n",
    "    api_version=OPENAI_DEPLOYMENT_VERSION,\n",
    "    api_key=OPENAI_API_KEY,\n",
    "    temperature=0,\n",
    ")"
   ]
  },
  {
   "cell_type": "code",
   "execution_count": null,
   "metadata": {},
   "outputs": [],
   "source": [
    "from langchain_core.prompts.prompt import PromptTemplate\n",
    "from langchain.tools.retriever import create_retriever_tool\n",
    "from langchain.chains import LLMMathChain\n",
    "from langchain_community.tools import DuckDuckGoSearchRun\n",
    "from langchain.agents import (\n",
    "    AgentExecutor,\n",
    "    Tool,\n",
    "    create_openai_tools_agent,\n",
    "    create_react_agent,\n",
    "    tool,\n",
    ")\n",
    "from langchain import hub\n",
    "from langchain.memory import ConversationEntityMemory\n",
    "\n",
    "doc_prompt = PromptTemplate.from_template(\n",
    "    \"<context>\\n{page_content}\\n\\n<meta>\\nsource: {source}\\npage: {page} + 1\\n</meta>\\n</context>\"\n",
    ")\n",
    "tool_search = create_retriever_tool(\n",
    "    retriever=vector_store,\n",
    "    name=\"Search BonBon\",\n",
    "    description=\"Searches and returns answer from BONBON FAQ.\",\n",
    "    document_prompt=doc_prompt,\n",
    ")\n",
    "\n",
    "math_chain = LLMMathChain.from_llm(llm=llm)\n",
    "duckduck = DuckDuckGoSearchRun()\n",
    "\n",
    "tools = [\n",
    "    tool_search,\n",
    "    Tool(\n",
    "        name=\"Duck Duck Go\",\n",
    "        func=duckduck.run,\n",
    "        description=\"useful for when you need to search for more information on the internet with Duck Duck Go search\",\n",
    "    ),\n",
    "    Tool(\n",
    "        name=\"Calculator\",\n",
    "        func=math_chain.run,\n",
    "        description=\"use this tool for math calculating\",\n",
    "    ),\n",
    "]\n",
    "\n",
    "template = \"\"\"\n",
    "Answer the following questions as best you can. You can use history {history} to fill in unknown context. You have access to the following tools:\n",
    "\n",
    "{tools}\n",
    "\n",
    "Use the following format:\n",
    "Remember: If any invalid format occurs, terminate and return answer\n",
    "Question: the input question you must answer\n",
    "Thought: you should always think about what to do\n",
    "Action: the action to take, find in Search BonBon tool first, then should be one of [{tool_names}]. If not, terminate answer\n",
    "Action Input: the input to the action\n",
    "Observation: the result of the action\n",
    "... (this Thought/Action/Action Input/Observation can repeat at most 5 times.)\n",
    "Thought: I now know the final answer. Let's return the answer\n",
    "Final Answer: the final answer to the original input question. If use Search BonBon then include the page of the PDF file that has the question\n",
    "\n",
    "Begin!\n",
    "Context:\n",
    "{entities}\n",
    "\n",
    "Current conversation:\n",
    "Chat History:\n",
    "{history}\n",
    "Last line:\n",
    "Human: {input}\n",
    "Thought: {agent_scratchpad}\n",
    "\"\"\"\n",
    "prompt_react = hub.pull(\"hwchase17/react\")\n",
    "prompt_react.template = template\n",
    "react_agent = create_react_agent(llm=llm, tools=tools, prompt=prompt_react)\n",
    "react_agent_executor = AgentExecutor(\n",
    "    agent=react_agent,\n",
    "    tools=tools,\n",
    "    verbose=True,\n",
    "    handle_parsing_errors=True,\n",
    "    memory=ConversationEntityMemory(llm=llm, top_k=3),\n",
    "    max_iterations=3\n",
    ")\n",
    "i = input(\"enter promt ('exit' to terminate): \")\n",
    "while i.lower() != \"exit\":\n",
    "    query = i\n",
    "    print(\"Responding ...\")\n",
    "    response = react_agent_executor.invoke({\"input\": query})\n",
    "    result = response.get(\"output\")\n",
    "    print(result)\n",
    "    i = input(\"enter new promt ('exit' to terminate): \")"
   ]
  },
  {
   "cell_type": "markdown",
   "metadata": {},
   "source": [
    "## Assignment 3: Build a new assistant based on BonBon source code (optional)\n",
    "The objective\n",
    "- Run the code and index the sample BonBon FAQ.pdf file to Azure Cognitive Search\n",
    "- Explore the code and implement a new assistant that has the same behavior as above\n",
    "- Explore other features such as RBACs, features on admin portal\n",
    "\n",
    "Please contact the training team in case you need to get the source code of BonBon."
   ]
  }
 ],
 "metadata": {
  "kernelspec": {
   "display_name": "langchain",
   "language": "python",
   "name": "python3"
  },
  "language_info": {
   "codemirror_mode": {
    "name": "ipython",
    "version": 3
   },
   "file_extension": ".py",
   "mimetype": "text/x-python",
   "name": "python",
   "nbconvert_exporter": "python",
   "pygments_lexer": "ipython3",
   "version": "3.11.10"
  }
 },
 "nbformat": 4,
 "nbformat_minor": 2
}
